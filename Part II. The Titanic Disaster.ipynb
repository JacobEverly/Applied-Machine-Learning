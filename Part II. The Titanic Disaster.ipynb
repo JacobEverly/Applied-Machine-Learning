{
 "cells": [
  {
   "cell_type": "code",
   "execution_count": 1,
   "id": "74325791",
   "metadata": {},
   "outputs": [],
   "source": [
    "import math\n",
    "import numpy as np\n",
    "from sklearn import preprocessing\n",
    "from sklearn.linear_model import LogisticRegression\n",
    "from sklearn.metrics import r2_score, mean_squared_error\n",
    "import pandas as pd\n",
    "import matplotlib.pyplot as plt"
   ]
  },
  {
   "cell_type": "code",
   "execution_count": 2,
   "id": "498e662c",
   "metadata": {},
   "outputs": [],
   "source": [
    "# Get data\n",
    "df_train = pd.read_csv('titanic/train.csv')\n",
    "df_test = pd.read_csv('titanic/test.csv')"
   ]
  },
  {
   "cell_type": "markdown",
   "id": "69f625dd",
   "metadata": {},
   "source": [
    "# 1. Pre-processing"
   ]
  },
  {
   "cell_type": "markdown",
   "id": "79b45139",
   "metadata": {},
   "source": [
    "### Only include relevant columns\n",
    "- Discarded PassengerId since it does not correlate with survival\n",
    "- Discared Name since I don't believe someone's name would correlate with their survival\n",
    "- Discarded Ticket because the data is messy, inconsistent, and incomplete\n",
    "- Discared Cabin since the data is too sparse"
   ]
  },
  {
   "cell_type": "markdown",
   "id": "361f0cdb",
   "metadata": {},
   "source": [
    "### Remove rows where age does not exist\n",
    "- Remove these rows because age is correlated with survival rate so we don't want to train on incomplete data samples"
   ]
  },
  {
   "cell_type": "code",
   "execution_count": 3,
   "id": "ec039b7d",
   "metadata": {},
   "outputs": [],
   "source": [
    "# remove columns with incomplete data for correlated features\n",
    "df_train.drop(df_train[np.isnan(df_train['Age'])].index, inplace=True)"
   ]
  },
  {
   "cell_type": "markdown",
   "id": "6263ebbd",
   "metadata": {},
   "source": [
    "### Keep correlated numerical data\n",
    "- Age is correlated with survival because children were prioritized for the lifeboats\n",
    "- Fare is correlated with survival because wealthier individuals (who had a higher fare) were given priority on lifeboats\n",
    "\n",
    "Additionally, we replace any missing values with the mean for that column"
   ]
  },
  {
   "cell_type": "code",
   "execution_count": 4,
   "id": "48b26e6a",
   "metadata": {},
   "outputs": [
    {
     "name": "stderr",
     "output_type": "stream",
     "text": [
      "/var/folders/th/81fjg0xx75ggm22ryn_tkxqh0000gn/T/ipykernel_5192/2703599286.py:6: SettingWithCopyWarning: \n",
      "A value is trying to be set on a copy of a slice from a DataFrame\n",
      "\n",
      "See the caveats in the documentation: https://pandas.pydata.org/pandas-docs/stable/user_guide/indexing.html#returning-a-view-versus-a-copy\n",
      "  numerical_data[column].fillna(value=numerical_data[column].mean(), inplace=True)\n"
     ]
    }
   ],
   "source": [
    "numerical_columns = ['Age', 'Fare']\n",
    "numerical_data = df_train[numerical_columns]\n",
    "\n",
    "# replace empty values with mean\n",
    "for column in numerical_data:\n",
    "    numerical_data[column].fillna(value=numerical_data[column].mean(), inplace=True)"
   ]
  },
  {
   "cell_type": "markdown",
   "id": "a2abfeb9",
   "metadata": {},
   "source": [
    "### Convert numerical features to categorical features\n",
    "- We convert Pclass, SibSp, and Parch to categorical features since they are discrete values that only assume a limited number of values.  When we convert these numerical features to categorical features and one-hot encode them, they contribute more value in the model training"
   ]
  },
  {
   "cell_type": "code",
   "execution_count": 5,
   "id": "38e30b59",
   "metadata": {},
   "outputs": [],
   "source": [
    "# convert discrete numerical features to categorical features\n",
    "numerical_to_categorical_cols = ['Pclass', 'SibSp', 'Parch']\n",
    "for col in numerical_to_categorical_cols:\n",
    "    df_train[col] = df_train[col].astype('category',copy=False)"
   ]
  },
  {
   "cell_type": "markdown",
   "id": "904523d2",
   "metadata": {},
   "source": [
    "### One-hot encode categorical features\n",
    "In addition to the numberical features we converted to categorical features above, we one-hot encode other relevant categorical features:\n",
    "\n",
    "- Sex: this is important since women were given priority on lifeboats\n",
    "- Embarked: this might have determined where their room was located on the boat (might have filled the boat from bottom to top or vice versa) and thus determined how close they were to lifeboats"
   ]
  },
  {
   "cell_type": "code",
   "execution_count": 6,
   "id": "41fac038",
   "metadata": {
    "scrolled": true
   },
   "outputs": [],
   "source": [
    "# separate out the categorical data and one-hot encode\n",
    "categorical_columns = ['Sex', 'Embarked'] + numerical_to_categorical_cols\n",
    "categorical_data = df_train[categorical_columns]\n",
    "categorical_data = pd.get_dummies(categorical_data)  # one-hot encode"
   ]
  },
  {
   "cell_type": "code",
   "execution_count": 7,
   "id": "51d13fb8",
   "metadata": {},
   "outputs": [],
   "source": [
    "# combine numerical and categorical data\n",
    "X_train = pd.concat([numerical_data, categorical_data], axis=1)"
   ]
  },
  {
   "cell_type": "markdown",
   "id": "07457cf5",
   "metadata": {},
   "source": [
    "# 2. Logistic Regression"
   ]
  },
  {
   "cell_type": "code",
   "execution_count": 8,
   "id": "a0cb3eef",
   "metadata": {},
   "outputs": [
    {
     "name": "stdout",
     "output_type": "stream",
     "text": [
      "0.8179271708683473\n"
     ]
    },
    {
     "name": "stderr",
     "output_type": "stream",
     "text": [
      "/Users/matthewcline/opt/anaconda3/lib/python3.9/site-packages/sklearn/linear_model/_logistic.py:814: ConvergenceWarning: lbfgs failed to converge (status=1):\n",
      "STOP: TOTAL NO. of ITERATIONS REACHED LIMIT.\n",
      "\n",
      "Increase the number of iterations (max_iter) or scale the data as shown in:\n",
      "    https://scikit-learn.org/stable/modules/preprocessing.html\n",
      "Please also refer to the documentation for alternative solver options:\n",
      "    https://scikit-learn.org/stable/modules/linear_model.html#logistic-regression\n",
      "  n_iter_i = _check_optimize_result(\n"
     ]
    }
   ],
   "source": [
    "y_train = df_train['Survived']\n",
    "log_reg = LogisticRegression().fit(X_train, y_train)\n",
    "print(log_reg.score(X_train, y_train))"
   ]
  },
  {
   "cell_type": "markdown",
   "id": "1c755c9c",
   "metadata": {},
   "source": [
    "# 3. Test"
   ]
  },
  {
   "cell_type": "code",
   "execution_count": 9,
   "id": "41b3c626",
   "metadata": {},
   "outputs": [
    {
     "name": "stderr",
     "output_type": "stream",
     "text": [
      "/var/folders/th/81fjg0xx75ggm22ryn_tkxqh0000gn/T/ipykernel_5192/4114234652.py:6: SettingWithCopyWarning: \n",
      "A value is trying to be set on a copy of a slice from a DataFrame\n",
      "\n",
      "See the caveats in the documentation: https://pandas.pydata.org/pandas-docs/stable/user_guide/indexing.html#returning-a-view-versus-a-copy\n",
      "  numerical_data[column].fillna(value=numerical_data[column].mean(), inplace=True)\n"
     ]
    }
   ],
   "source": [
    "numerical_columns = ['Age', 'Fare']\n",
    "numerical_data = df_test[numerical_columns]\n",
    "\n",
    "# replace empty values with mean\n",
    "for column in numerical_data:\n",
    "    numerical_data[column].fillna(value=numerical_data[column].mean(), inplace=True)\n",
    "    \n",
    "# convert discrete numerical features to categorical features\n",
    "numerical_to_categorical_cols = ['Pclass', 'SibSp', 'Parch']\n",
    "for col in numerical_to_categorical_cols:\n",
    "    df_test[col] = df_test[col].astype('category', copy=False)\n",
    "    \n",
    "# separate out the categorical data and one-hot encode\n",
    "categorical_columns = ['Sex', 'Embarked'] + numerical_to_categorical_cols\n",
    "categorical_data = df_test[categorical_columns]\n",
    "categorical_data = pd.get_dummies(categorical_data)  # one-hot encode\n",
    "\n",
    "# combine numerical and categorical data\n",
    "X_test = pd.concat([numerical_data, categorical_data], axis=1)\n",
    "\n",
    "# Remove one-hot encoded columns in testing dataset that are not in training dataset\n",
    "X_test.drop(columns=[col for col in X_test if col not in X_train], inplace=True)\n",
    "\n",
    "y_pred = log_reg.predict(X_test)\n",
    "y_pred_final = pd.DataFrame(data = y_pred, index = df_test['PassengerId'], columns = ['Survived'])"
   ]
  },
  {
   "cell_type": "code",
   "execution_count": 10,
   "id": "65cf7173",
   "metadata": {},
   "outputs": [],
   "source": [
    "# create CSV with predictions\n",
    "y_pred_final.to_csv('titanic/predictions.csv')"
   ]
  },
  {
   "cell_type": "code",
   "execution_count": null,
   "id": "5ae9c2e1",
   "metadata": {},
   "outputs": [],
   "source": []
  }
 ],
 "metadata": {
  "kernelspec": {
   "display_name": "Python 3 (ipykernel)",
   "language": "python",
   "name": "python3"
  },
  "language_info": {
   "codemirror_mode": {
    "name": "ipython",
    "version": 3
   },
   "file_extension": ".py",
   "mimetype": "text/x-python",
   "name": "python",
   "nbconvert_exporter": "python",
   "pygments_lexer": "ipython3",
   "version": "3.9.12"
  }
 },
 "nbformat": 4,
 "nbformat_minor": 5
}
